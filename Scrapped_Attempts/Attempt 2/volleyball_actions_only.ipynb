{
 "cells": [
  {
   "cell_type": "code",
   "execution_count": null,
   "metadata": {
    "colab": {
     "base_uri": "https://localhost:8080/",
     "height": 1000
    },
    "collapsed": true,
    "executionInfo": {
     "elapsed": 2768625,
     "status": "ok",
     "timestamp": 1743020777913,
     "user": {
      "displayName": "Adi",
      "userId": "09931910908452657891"
     },
     "user_tz": 240
    },
    "id": "c_TK6qkLzeeF",
    "outputId": "8d2c1664-9de3-42d1-e9b2-30f819658c59"
   },
   "outputs": [],
   "source": [
    "# Install YOLOv8\n",
    "!pip install ultralytics -q\n",
    "\n",
    "# Import and check GPU if it exists\n",
    "import torch\n",
    "print(\"CUDA Available:\", torch.cuda.is_available())\n",
    "print(\"Device:\", torch.cuda.get_device_name(0) if torch.cuda.is_available() else \"CPU Only\")\n",
    "\n",
    "# Mount Google Drive\n",
    "from google.colab import drive\n",
    "drive.mount('/content/drive')\n",
    "\n",
    "# Unzip dataset\n",
    "!unzip /content/drive/MyDrive/volley_dataset.zip -d /content/volley_dataset\n",
    "\n",
    "# Check dataset contents\n",
    "!ls /content/volley_dataset\n",
    "\n",
    "# Train YOLOv8 detection model\n",
    "!yolo task=detect mode=train model=yolov8n.pt data=/content/volley_dataset/data.yaml epochs=10 imgsz=640\n",
    "\n",
    "# Run predictions\n",
    "!yolo task=detect mode=predict model=runs/detect/train/weights/best.pt source=/content/volley_dataset/valid/images save=True\n",
    "\n",
    "# View results\n",
    "from IPython.display import Image, display\n",
    "display(Image(filename='runs/detect/train/results.png'))\n"
   ]
  },
  {
   "cell_type": "code",
   "execution_count": null,
   "metadata": {
    "colab": {
     "base_uri": "https://localhost:8080/"
    },
    "collapsed": true,
    "executionInfo": {
     "elapsed": 28971,
     "status": "ok",
     "timestamp": 1743020998688,
     "user": {
      "displayName": "Adi",
      "userId": "09931910908452657891"
     },
     "user_tz": 240
    },
    "id": "YzJAwEW3JR6X",
    "outputId": "52c7e4a7-8cb9-4779-f395-400359656f93"
   },
   "outputs": [],
   "source": [
    "!yolo task=detect mode=predict model=runs/detect/train/weights/best.pt source=/content/volley_dataset/valid/images save=True"
   ]
  },
  {
   "cell_type": "code",
   "execution_count": null,
   "metadata": {
    "colab": {
     "base_uri": "https://localhost:8080/",
     "height": 1000
    },
    "collapsed": true,
    "executionInfo": {
     "elapsed": 10166,
     "status": "ok",
     "timestamp": 1743021185074,
     "user": {
      "displayName": "Adi",
      "userId": "09931910908452657891"
     },
     "user_tz": 240
    },
    "id": "TkgL5QJXKEq8",
    "outputId": "b4ef3608-31b4-4957-ae46-b5ae5713dd3c"
   },
   "outputs": [],
   "source": [
    "# Download prediction results\n",
    "!zip -r predict2.zip runs/detect/predict2/\n",
    "\n",
    "from google.colab import files\n",
    "files.download(\"predict2.zip\")"
   ]
  },
  {
   "cell_type": "code",
   "execution_count": null,
   "metadata": {
    "colab": {
     "base_uri": "https://localhost:8080/",
     "height": 52
    },
    "executionInfo": {
     "elapsed": 11863,
     "status": "ok",
     "timestamp": 1743023142334,
     "user": {
      "displayName": "Adi",
      "userId": "09931910908452657891"
     },
     "user_tz": 240
    },
    "id": "cK6WQQCHRgI0",
    "outputId": "750ae225-2c4f-442d-d861-9ada248fa317"
   },
   "outputs": [],
   "source": [
    "import os\n",
    "import cv2\n",
    "import glob\n",
    "\n",
    "image_folder = 'runs/detect/predict2'\n",
    "video_name = 'predicted_video.mp4'\n",
    "\n",
    "# Grab all .jpg images and sort by name\n",
    "images = sorted(glob.glob(os.path.join(image_folder, '*.jpg')))\n",
    "print(f\"Found {len(images)} images.\")\n",
    "\n",
    "# Read first image to get dimensions\n",
    "frame = cv2.imread(images[0])\n",
    "height, width, layers = frame.shape\n",
    "size = (width, height)\n",
    "\n",
    "# Define video writer\n",
    "out = cv2.VideoWriter(video_name, cv2.VideoWriter_fourcc(*'mp4v'), 10, size)\n",
    "\n",
    "for img_path in images:\n",
    "    frame = cv2.imread(img_path)\n",
    "    out.write(frame)\n",
    "\n",
    "out.release()\n",
    "print(f\"Video saved to {video_name}\")\n",
    "\n",
    "from google.colab import files\n",
    "files.download(\"predicted_video.mp4\")"
   ]
  }
 ],
 "metadata": {
  "accelerator": "GPU",
  "colab": {
   "authorship_tag": "ABX9TyN7ZtOuVnPN5lXu+Bb8j8Ie",
   "gpuType": "T4",
   "provenance": [
    {
     "file_id": "1_29mlZ0uTo8F52Q692aGLEEZXqfmzv60",
     "timestamp": 1743026771220
    }
   ]
  },
  "kernelspec": {
   "display_name": "Python 3",
   "name": "python3"
  },
  "language_info": {
   "name": "python"
  }
 },
 "nbformat": 4,
 "nbformat_minor": 0
}
