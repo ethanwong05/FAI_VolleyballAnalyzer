{
 "cells": [
  {
   "cell_type": "code",
   "execution_count": null,
   "metadata": {
    "id": "ZXp4N-eTfuE7"
   },
   "outputs": [],
   "source": [
    "\n",
    "!pip install ultralytics -q\n",
    "\n",
    "import torch\n",
    "print(\"CUDA Available:\", torch.cuda.is_available())\n",
    "if torch.cuda.is_available():\n",
    "    print(\"GPU:\", torch.cuda.get_device_name(0))\n",
    "else:\n",
    "    print(\"Warning: Using CPU\")\n",
    "\n",
    "from google.colab import drive\n",
    "drive.mount('/content/drive')\n"
   ]
  },
  {
   "cell_type": "code",
   "execution_count": null,
   "metadata": {
    "collapsed": true,
    "id": "2bKu3r87gQdJ"
   },
   "outputs": [],
   "source": [
    "\n",
    "!unzip \"/content/drive/MyDrive/volley_player_dataset.zip\" -d /content/player_dataset\n",
    "\n",
    "!cat /content/player_dataset/data.yaml\n",
    "\n",
    "!yolo task=detect mode=train model=yolov8n.pt \\\n",
    "  data=/content/player_dataset/data.yaml \\\n",
    "  epochs=20 imgsz=640\n",
    "\n",
    "!yolo task=detect mode=predict model=runs/detect/train/weights/best.pt \\\n",
    "  source=/content/player_dataset/valid/images save=True\n"
   ]
  },
  {
   "cell_type": "code",
   "execution_count": null,
   "metadata": {
    "colab": {
     "background_save": true
    },
    "id": "brVXc1bqgWqH"
   },
   "outputs": [],
   "source": [
    "\n",
    "!unzip \"/content/drive/MyDrive/volley_ball_dataset.zip\" -d /content/ball_dataset\n",
    "\n",
    "!cat /content/ball_dataset/data.yaml\n",
    "\n",
    "!yolo task=detect mode=train model=yolov8n.pt \\\n",
    "  data=/content/ball_dataset/data.yaml \\\n",
    "  epochs=20 imgsz=640\n",
    "\n",
    "!yolo task=detect mode=predict model=runs/detect/train/weights/best.pt \\\n",
    "  source=/content/ball_dataset/valid/images save=True\n"
   ]
  },
  {
   "cell_type": "code",
   "execution_count": null,
   "metadata": {
    "id": "pHgBH3sqgaDC"
   },
   "outputs": [],
   "source": [
    "\n",
    "!unzip \"/content/drive/MyDrive/volley_actions_dataset.zip\" -d /content/actions_dataset\n",
    "\n",
    "import os\n",
    "from pathlib import Path\n",
    "import shutil\n",
    "\n",
    "def filter_spike_only(source_split):\n",
    "    label_dir = Path(f\"/content/actions_dataset/{source_split}/labels\")\n",
    "    image_dir = Path(f\"/content/actions_dataset/{source_split}/images\")\n",
    "\n",
    "    target_label_dir = Path(f\"/content/spike_dataset/{source_split}/labels\")\n",
    "    target_image_dir = Path(f\"/content/spike_dataset/{source_split}/images\")\n",
    "    target_label_dir.mkdir(parents=True, exist_ok=True)\n",
    "    target_image_dir.mkdir(parents=True, exist_ok=True)\n",
    "\n",
    "    for label_file in label_dir.glob(\"*.txt\"):\n",
    "        with open(label_file, \"r\") as f:\n",
    "            lines = f.readlines()\n",
    "        spike_lines = [line for line in lines if line.startswith(\"4 \")]  # 4 = spike class\n",
    "        if spike_lines:\n",
    "            with open(target_label_dir / label_file.name, \"w\") as f_out:\n",
    "                f_out.writelines(spike_lines)\n",
    "\n",
    "            img_path = image_dir / label_file.with_suffix(\".jpg\").name\n",
    "            if img_path.exists():\n",
    "                shutil.copy(img_path, target_image_dir / img_path.name)\n",
    "\n",
    "filter_spike_only(\"train\")\n",
    "filter_spike_only(\"valid\")\n",
    "\n",
    "with open(\"/content/spike_dataset/data.yaml\", \"w\") as f:\n",
    "    f.write(\"\"\"train: /content/spike_dataset/train/images\n",
    "val: /content/spike_dataset/valid/images\n",
    "nc: 1\n",
    "names: [\"spike\"]\n",
    "\"\"\")\n",
    "\n",
    "!yolo task=detect mode=train model=yolov8n.pt \\\n",
    "  data=/content/spike_dataset/data.yaml \\\n",
    "  epochs=20 imgsz=640\n"
   ]
  },
  {
   "cell_type": "code",
   "execution_count": null,
   "metadata": {
    "id": "i9Tuu0TEgd8g"
   },
   "outputs": [],
   "source": [
    "from IPython.display import Image, display\n",
    "import glob\n",
    "\n",
    "for img_path in sorted(glob.glob(\"runs/detect/predict/*.jpg\"))[:5]:\n",
    "    display(Image(filename=img_path))\n"
   ]
  }
 ],
 "metadata": {
  "accelerator": "GPU",
  "colab": {
   "authorship_tag": "ABX9TyPs7fjqmh77lBTcyB8431pt",
   "gpuType": "T4",
   "provenance": []
  },
  "kernelspec": {
   "display_name": "Python 3",
   "name": "python3"
  },
  "language_info": {
   "name": "python"
  }
 },
 "nbformat": 4,
 "nbformat_minor": 0
}
